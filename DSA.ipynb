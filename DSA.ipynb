{
 "cells": [
  {
   "cell_type": "markdown",
   "metadata": {},
   "source": [
    "FACTORIAL"
   ]
  },
  {
   "cell_type": "code",
   "execution_count": 1,
   "metadata": {},
   "outputs": [
    {
     "data": {
      "text/plain": [
       "720"
      ]
     },
     "execution_count": 1,
     "metadata": {},
     "output_type": "execute_result"
    }
   ],
   "source": [
    "#   Factorial\n",
    "def factorial(n):\n",
    "    fact = 1\n",
    "    for i in range(2,n+1):\n",
    "        fact *= i\n",
    "    return fact\n",
    "factorial(6)"
   ]
  },
  {
   "cell_type": "markdown",
   "metadata": {},
   "source": [
    "FIBONACCI SERIES"
   ]
  },
  {
   "cell_type": "code",
   "execution_count": 2,
   "metadata": {},
   "outputs": [
    {
     "name": "stdout",
     "output_type": "stream",
     "text": [
      "Not valid\n",
      "[0]\n",
      "[0, 1]\n",
      "[0, 1, 1]\n",
      "[0, 1, 1, 2]\n",
      "[0, 1, 1, 2, 3]\n",
      "[0, 1, 1, 2, 3, 5]\n",
      "[0, 1, 1, 2, 3, 5, 8]\n",
      "[0, 1, 1, 2, 3, 5, 8, 13]\n",
      "[0, 1, 1, 2, 3, 5, 8, 13, 21]\n",
      "[0, 1, 1, 2, 3, 5, 8, 13, 21, 34]\n"
     ]
    }
   ],
   "source": [
    "def fibonacci(n):\n",
    "    if n<=0:\n",
    "        return \"Not valid\"\n",
    "    elif n==1:\n",
    "        return [0]\n",
    "    fibo = [0,1]\n",
    "    for i in range(2, n):\n",
    "        fibo.append(fibo[i-1]+fibo[i-2])\n",
    "    return fibo\n",
    "for i in range(0,11):\n",
    "    print(fibonacci(i))"
   ]
  },
  {
   "cell_type": "markdown",
   "metadata": {},
   "source": [
    "PERMUTATIONS"
   ]
  },
  {
   "cell_type": "code",
   "execution_count": 3,
   "metadata": {},
   "outputs": [
    {
     "data": {
      "text/plain": [
       "24"
      ]
     },
     "execution_count": 3,
     "metadata": {},
     "output_type": "execute_result"
    }
   ],
   "source": [
    "def string_permutations(input_str):\n",
    "    n = len(input_str)\n",
    "    if n==0:\n",
    "        return [\"\"]\n",
    "    \n",
    "    permutation = [\"\"]\n",
    "\n",
    "    for char in input_str:\n",
    "        new_perm = []\n",
    "        for perm in permutation:\n",
    "            for i in range(len(perm)+1):\n",
    "                new_perm.append(perm[:i] + char + perm[i:])\n",
    "        permutation = new_perm\n",
    "\n",
    "    return permutation\n",
    "\n",
    "len(string_permutations(\"ABCD\"))"
   ]
  },
  {
   "cell_type": "markdown",
   "metadata": {},
   "source": [
    "LINEAR SEARCH <br>\n",
    "Average: O(n) | \n",
    "Worst: O(n) | \n",
    "Best: O(1)"
   ]
  },
  {
   "cell_type": "code",
   "execution_count": 4,
   "metadata": {},
   "outputs": [
    {
     "data": {
      "text/plain": [
       "2"
      ]
     },
     "execution_count": 4,
     "metadata": {},
     "output_type": "execute_result"
    }
   ],
   "source": [
    "def LinearSearch(array, target):\n",
    "    for i in range(len(array)):\n",
    "        if array[i]==target:\n",
    "            return i\n",
    "    return \"Does not exist\"\n",
    "LinearSearch([22,11,33,44,22], 33)"
   ]
  },
  {
   "cell_type": "code",
   "execution_count": 5,
   "metadata": {},
   "outputs": [
    {
     "data": {
      "text/plain": [
       "2"
      ]
     },
     "execution_count": 5,
     "metadata": {},
     "output_type": "execute_result"
    }
   ],
   "source": [
    "def LinearSearch(array, target):\n",
    "    for num in array:\n",
    "        if num == target:\n",
    "            return array.index(num)\n",
    "    return \"Does not exist\"\n",
    "LinearSearch([22,11,33,44,22], 33)"
   ]
  },
  {
   "cell_type": "markdown",
   "metadata": {},
   "source": [
    "BINARY SEARCH <br>\n",
    "Average: O(log n) | \n",
    "Worst: O(log n) | \n",
    "Best: O(1)"
   ]
  },
  {
   "cell_type": "code",
   "execution_count": 14,
   "metadata": {},
   "outputs": [
    {
     "data": {
      "text/plain": [
       "2"
      ]
     },
     "execution_count": 14,
     "metadata": {},
     "output_type": "execute_result"
    }
   ],
   "source": [
    "def BinarySearch(array, target):\n",
    "    low, high = 0, len(array)-1\n",
    "    while low<=high:\n",
    "        mid = (low+high)//2\n",
    "        if array[mid]==target:\n",
    "            return mid\n",
    "        elif target<array[mid]:\n",
    "            high = mid-1\n",
    "        else:\n",
    "            low = mid+1\n",
    "    return \"NOT FOUND\"\n",
    "BinarySearch([1,2,3,5,6,77,88,99,121,151,222], 3)"
   ]
  },
  {
   "cell_type": "markdown",
   "metadata": {},
   "source": [
    "BUBBLE SORT <BR>\n",
    "Average: O(n^2) |\n",
    "Worst: O(n^2) |\n",
    "Best: O(n) (when the array is already sorted) <BR>\n",
    "Bubble sort compares adjacent elements and swaps them if they are in the wrong order. It repeats this process until the array is sorted."
   ]
  },
  {
   "cell_type": "markdown",
   "metadata": {},
   "source": [
    "Algorithm for Bubble Sort:<br>\n",
    "\n",
    "<b>Initialization:</b> <br>Start with an unsorted array arr of length n.<br>\n",
    "<b>Passes:</b> <br>Perform a series of passes through the array, where each pass iterates through a decreasing range of elements.<br>\n",
    "<b>Comparison and Swap:</b><br>\n",
    "In each pass, compare adjacent elements of the array from index 0 to n-2.<br>\n",
    "If the current element arr[j] is greater than the next element arr[j+1], swap them. This moves the larger element towards the end of the array.<br>\n",
    "Continue this process until you reach the end of the pass.<br>\n",
    "<b>Repeat Passes:</b><br>\n",
    "After completing the first pass, the largest element will have moved to its correct position at the end.<br>\n",
    "For the second pass, iterate only up to n-2 (last element is already in the correct place).<br>\n",
    "Similarly, for each subsequent pass, iterate one less element because the largest elements are already in their correct positions.<br>\n",
    "<b>Completion:</b><br>\n",
    "Continue this process for a total of n-1 passes. After n-1 passes, the array will be completely sorted."
   ]
  },
  {
   "cell_type": "code",
   "execution_count": 7,
   "metadata": {},
   "outputs": [
    {
     "data": {
      "text/plain": [
       "[11, 12, 22, 25, 34, 64, 90]"
      ]
     },
     "execution_count": 7,
     "metadata": {},
     "output_type": "execute_result"
    }
   ],
   "source": [
    "def BubbleSort(array):\n",
    "    n = len(array)\n",
    "    for i in range(n):\n",
    "        for j in range(0,n-i-1):\n",
    "            if array[j]>array[j+1]:\n",
    "                array[j], array[j+1] = array[j+1], array[j]\n",
    "    return array\n",
    "BubbleSort([64, 34, 25, 12, 22, 11, 90])"
   ]
  },
  {
   "cell_type": "markdown",
   "metadata": {},
   "source": [
    "SELECTION SORT <BR>\n",
    "All Cases: O(n^2) <BR>\n",
    "Selection sort repeatedly selects the minimum element from the unsorted part of the array and places it in the correct position in the sorted part."
   ]
  },
  {
   "cell_type": "markdown",
   "metadata": {},
   "source": [
    "Algorithm for Selection Sort:<br>\n",
    "\n",
    "<b>Initialization:</b> <br>Start with an unsorted array arr of length n.<br>\n",
    "<b>Finding the Minimum:</b><br>\n",
    "For each pass, find the minimum element in the unsorted part of the array (starting from the current position).<br>\n",
    "<b>Swapping:</b><br>\n",
    "Once the minimum element is found, swap it with the element at the current position.\n",
    "This places the smallest element in the correct sorted position at the beginning of the array.<br>\n",
    "<b>Increment Position:</b><br>\n",
    "After each pass, increment the current position by 1 to exclude the sorted elements from future comparisons.<br>\n",
    "<b>Repeat Passes:</b><br>\n",
    "Continue this process for a total of n-1 passes. After n-1 passes, the entire array will be sorted."
   ]
  },
  {
   "cell_type": "code",
   "execution_count": 8,
   "metadata": {},
   "outputs": [
    {
     "data": {
      "text/plain": [
       "[11, 12, 22, 25, 34, 64, 90]"
      ]
     },
     "execution_count": 8,
     "metadata": {},
     "output_type": "execute_result"
    }
   ],
   "source": [
    "def SelectionSort(array):\n",
    "    n = len(array)\n",
    "    for i in range(n):\n",
    "        min_index = i\n",
    "        for j in range(i+1, n):\n",
    "            if array[j]<array[min_index]:\n",
    "                min_index = j\n",
    "        array[i], array[min_index] = array[min_index], array[i]\n",
    "    return array\n",
    "SelectionSort([64, 34, 25, 12, 22, 11, 90]) "
   ]
  },
  {
   "cell_type": "markdown",
   "metadata": {},
   "source": [
    "INSERTION SORT<BR>\n",
    "Average : O(n^2) | \n",
    "Worst : O(n^2) | \n",
    "Best : O(n) (when the array is already sorted) <BR>\n",
    "Insertion sort builds the sorted array one element at a time by repeatedly taking an element from the unsorted part and inserting it into its correct position in the sorted part."
   ]
  },
  {
   "cell_type": "markdown",
   "metadata": {},
   "source": [
    "Algorithm for Insertion Sort:<br>\n",
    "\n",
    "<b>Initialization:</b> <br>Start with an unsorted array arr of length n.<br>\n",
    "<b>Sorted and Unsorted Subarrays:</b><br>\n",
    "Conceptually, divide the array into two parts: a sorted subarray on the left and an unsorted subarray on the right.\n",
    "Initially, the sorted subarray consists of only the first element, and the unsorted subarray consists of the rest.<br>\n",
    "<b>Iterative Sorting:</b><br>\n",
    "For each pass, pick an element from the unsorted subarray and insert it into its correct position within the sorted subarray.\n",
    "The insertion is done by shifting larger elements in the sorted subarray to the right until the correct position is found.<br>\n",
    "<b>Increment Position:</b><br>\n",
    "After each pass, increment the current position by 1 to exclude the sorted elements from future comparisons.<br>\n",
    "<b>Repeat Passes:</b><br>\n",
    "Continue this process for all elements in the unsorted subarray, gradually growing the sorted subarray and shrinking the unsorted subarray."
   ]
  },
  {
   "cell_type": "code",
   "execution_count": 9,
   "metadata": {},
   "outputs": [
    {
     "data": {
      "text/plain": [
       "[11, 12, 22, 25, 34, 64, 90]"
      ]
     },
     "execution_count": 9,
     "metadata": {},
     "output_type": "execute_result"
    }
   ],
   "source": [
    "def InsertionSort(array):\n",
    "    n = len(array)\n",
    "    for i in range(1,n):\n",
    "        key = array[i]\n",
    "        j = i-1\n",
    "        while j>=0 and key<array[j]:\n",
    "            array[j+1] = array[j]\n",
    "            j -= 1\n",
    "        array[j+1] = key\n",
    "    return array\n",
    "InsertionSort([64, 34, 25, 12, 22, 11, 90])"
   ]
  },
  {
   "cell_type": "markdown",
   "metadata": {},
   "source": [
    "MERGE SORT<BR>\n",
    "All Cases: O(n log n) <BR>\n",
    "Merge sort is a divide-and-conquer algorithm that divides the array into halves, sorts each half, and then merges them back together."
   ]
  },
  {
   "cell_type": "markdown",
   "metadata": {},
   "source": [
    "Algorithm for Merge Sort:<br>\n",
    "\n",
    "<b>Divide:</b><br>Divide the unsorted array into two halves, roughly equal in size. This is done recursively until each subarray contains only one element.<br>\n",
    "<b>Conquer (Sort):</b><br>\n",
    "Sort each subarray. When a subarray has only one element, it is already sorted.<br>\n",
    "<b>Merge:</b><br>\n",
    "Merge the sorted subarrays back together to form a larger sorted array. This is done by comparing elements from the two subarrays and selecting the smaller (or larger) one to place in the merged array.<br>\n",
    "<b>Repeat and Combine:</b><br>\n",
    "Continue merging the subarrays until the entire array is reconstructed and sorted."
   ]
  },
  {
   "cell_type": "code",
   "execution_count": 10,
   "metadata": {},
   "outputs": [
    {
     "name": "stdout",
     "output_type": "stream",
     "text": [
      "[3, 9, 10, 27, 38, 43, 82]\n"
     ]
    }
   ],
   "source": [
    "def MergeSort(array):\n",
    "    if len(array)>1:\n",
    "        mid = len(array)//2\n",
    "        left_half = array[:mid]\n",
    "        right_half = array[mid:]\n",
    "\n",
    "        MergeSort(left_half)\n",
    "        MergeSort(right_half)\n",
    "\n",
    "        i=j=k=0\n",
    "\n",
    "        while i<len(left_half) and j<len(right_half):\n",
    "            if left_half[i] < right_half[j]:\n",
    "                array[k] = left_half[i]\n",
    "                i += 1\n",
    "            else:\n",
    "                array[k] = right_half[j]\n",
    "                j += 1\n",
    "            k+=1\n",
    "        \n",
    "        while i < len(left_half):\n",
    "            array[k] = left_half[i]\n",
    "            i+=1\n",
    "            k+=1\n",
    "        \n",
    "        while j<len(right_half):\n",
    "            array[k] = right_half[j]\n",
    "            j+=1\n",
    "            k+=1\n",
    "\n",
    "array = [38, 27, 43, 3, 9, 82, 10]\n",
    "MergeSort(array)\n",
    "print(array)"
   ]
  },
  {
   "cell_type": "markdown",
   "metadata": {},
   "source": [
    "QUICK SORT <BR>\n",
    "Average: O(n log n) | \n",
    "Worst: O(n^2) (rare, but can occur with poor pivot choices) | \n",
    "Best: O(n log n) <BR>\n",
    "Quick sort picks a pivot element and partitions the array into two sub-arrays – elements less than the pivot and elements greater than the pivot. It then recursively sorts these sub-arrays."
   ]
  },
  {
   "cell_type": "markdown",
   "metadata": {},
   "source": [
    "Algorithm for Quick Sort:<br>\n",
    "\n",
    "<b>Choosing a Pivot:</b> <br>Choose a pivot element from the array. The pivot can be selected using various strategies, such as selecting the first, last, or middle element.<br>\n",
    "<b>Partitioning:</b><br>\n",
    "Rearrange the array such that all elements less than the pivot are on its left and all elements greater than the pivot are on its right. The pivot itself is now in its correct sorted position.<br>\n",
    "<b>Recursive Sorting:</b><br>\n",
    "Recursively apply the Quick Sort algorithm to the two subarrays created by the partitioning step.<br>\n",
    "<b>Termination:</b><br>\n",
    "The base case of the recursion is when a subarray contains only one element (or is empty), in which case it's considered sorted.<br>\n",
    "<b>Combining:</b><br>\n",
    "Since the subarrays are sorted in place, no additional merging step is needed."
   ]
  },
  {
   "cell_type": "code",
   "execution_count": 11,
   "metadata": {},
   "outputs": [
    {
     "name": "stdout",
     "output_type": "stream",
     "text": [
      "[3, 9, 10, 27, 38, 43, 82]\n"
     ]
    }
   ],
   "source": [
    "def QuickSort(array, low, high):\n",
    "    if low<high:\n",
    "        pivot_index = partition(array, low, high)\n",
    "        QuickSort(array, low, pivot_index-1)\n",
    "        QuickSort(array, pivot_index+1, high)\n",
    "\n",
    "def partition(array, low, high):\n",
    "    pivot = array[high]\n",
    "    i = low-1\n",
    "\n",
    "    for j in range(low, high):\n",
    "        if array[j] < pivot:\n",
    "            i += 1\n",
    "            array[i], array[j] = array[j], array[i]\n",
    "    \n",
    "    array[i+1], array[high] = array[high], array[i+1]\n",
    "    return i+1\n",
    "\n",
    "array = [38, 27, 43, 3, 9, 82, 10]\n",
    "QuickSort(array, 0, len(array) - 1)\n",
    "print(array)"
   ]
  },
  {
   "cell_type": "markdown",
   "metadata": {},
   "source": [
    "FREQUENCY OF NUMBERS IN ARRAY"
   ]
  },
  {
   "cell_type": "code",
   "execution_count": 12,
   "metadata": {},
   "outputs": [],
   "source": [
    "def frequency_of_array(array):\n",
    "    frequency = {}\n",
    "    array.sort()\n",
    "    for number in array:\n",
    "        if number in frequency:\n",
    "            frequency[number]+=1\n",
    "        else:\n",
    "            frequency[number] = 1\n",
    "    return frequency\n"
   ]
  },
  {
   "cell_type": "code",
   "execution_count": 13,
   "metadata": {},
   "outputs": [
    {
     "data": {
      "text/plain": [
       "{1: 4, 2: 4, 5: 3, 7: 1, 9: 1, 10: 2, 11: 2, 22: 2, 33: 3}"
      ]
     },
     "execution_count": 13,
     "metadata": {},
     "output_type": "execute_result"
    }
   ],
   "source": [
    "input1 = [1,2,1,2,33,22,11,22,11,33,5,5,5,2,1,1,2,7,10,9,10,33]\n",
    "frequency_of_array(input1)"
   ]
  },
  {
   "cell_type": "code",
   "execution_count": 30,
   "metadata": {},
   "outputs": [
    {
     "name": "stdout",
     "output_type": "stream",
     "text": [
      "     *     \n",
      "    **    \n",
      "   ****   \n",
      "  ******  \n",
      " ******** \n",
      "**********\n",
      "**********\n",
      " ******** \n",
      "  ******  \n",
      "   ****   \n",
      "    **    \n",
      "     *     \n"
     ]
    }
   ],
   "source": [
    "line = \"\"\n",
    "j=5\n",
    "for i in range(0,6):\n",
    "    if i == 0 :\n",
    "        line = \" \"*j + \"*\"*1 + \" \"*j\n",
    "    else:\n",
    "        line = \" \"*j + \"*\"*i*2 + \" \"*j\n",
    "    j-=1\n",
    "    print(line)\n",
    "\n",
    "j=0\n",
    "for i in range(5,-1,-1):\n",
    "    if i == 0 :\n",
    "        line = \" \"*j + \"*\"*1 + \" \"*j\n",
    "    else:\n",
    "        line = \" \"*j + \"*\"*i*2 + \" \"*j\n",
    "    j+=1\n",
    "    print(line)"
   ]
  },
  {
   "cell_type": "code",
   "execution_count": null,
   "metadata": {},
   "outputs": [],
   "source": []
  }
 ],
 "metadata": {
  "kernelspec": {
   "display_name": "Python 3",
   "language": "python",
   "name": "python3"
  },
  "language_info": {
   "codemirror_mode": {
    "name": "ipython",
    "version": 3
   },
   "file_extension": ".py",
   "mimetype": "text/x-python",
   "name": "python",
   "nbconvert_exporter": "python",
   "pygments_lexer": "ipython3",
   "version": "3.10.0"
  },
  "orig_nbformat": 4
 },
 "nbformat": 4,
 "nbformat_minor": 2
}
